{
  "nbformat": 4,
  "nbformat_minor": 0,
  "metadata": {
    "orig_nbformat": 4,
    "colab": {
      "name": "CNN for MNIST.ipynb",
      "provenance": []
    },
    "accelerator": "GPU",
    "language_info": {
      "name": "python"
    },
    "kernelspec": {
      "name": "python3",
      "display_name": "Python 3"
    }
  },
  "cells": [
    {
      "cell_type": "markdown",
      "metadata": {
        "id": "2lw39tBT5OTy"
      },
      "source": [
        "# **CNN for MNIST dataset**\n",
        "\n",
        "This is a simple Convolutional Neural Network which classifies the handwritten digits in MNIST dataset. The MNIST dataset which comes with Keras has been used over here.\n",
        "\n",
        "Follow me on Github : [ayan-cs](https://github.com/ayan-cs)"
      ]
    },
    {
      "cell_type": "markdown",
      "metadata": {
        "id": "bUqbdu4b5OT2"
      },
      "source": [
        "# **Import necessary librabries/modules and Dataset**\n",
        "\n",
        "The MNIST handwritten digits dataset comes split in Train and Test set. Manually, you need to prepare the Validation set data from the Test dataset. You need to properly preprocess the data i.e. normalizing, expanding dimensions of the Feature values and converting the Target/Labels in categorical."
      ]
    },
    {
      "cell_type": "code",
      "metadata": {
        "colab": {
          "base_uri": "https://localhost:8080/"
        },
        "id": "R91TPXLW5OT3",
        "outputId": "37e3f0e4-9e5f-42d3-ba7f-e4ee6ece8f53"
      },
      "source": [
        "import keras,os\n",
        "from keras.datasets import mnist\n",
        "from tensorflow.keras.utils import to_categorical\n",
        "from keras.models import Sequential\n",
        "from keras.layers import Dense, Conv2D, MaxPool2D , Flatten, Dropout, LeakyReLU\n",
        "from keras.optimizers import adam_v2\n",
        "from keras.losses import categorical_crossentropy\n",
        "from keras.callbacks import ModelCheckpoint, EarlyStopping\n",
        "import matplotlib.pyplot as plt\n",
        "from keras.models import load_model\n",
        "from sklearn.metrics import classification_report\n",
        "import numpy as np\n",
        "\n",
        "(X_train, y_train), (X_test, y_test) = mnist.load_data()"
      ],
      "execution_count": 1,
      "outputs": [
        {
          "output_type": "stream",
          "name": "stdout",
          "text": [
            "Downloading data from https://storage.googleapis.com/tensorflow/tf-keras-datasets/mnist.npz\n",
            "11493376/11490434 [==============================] - 0s 0us/step\n",
            "11501568/11490434 [==============================] - 0s 0us/step\n"
          ]
        }
      ]
    },
    {
      "cell_type": "code",
      "metadata": {
        "colab": {
          "base_uri": "https://localhost:8080/"
        },
        "id": "wG3TCrml5OT4",
        "outputId": "a33633f3-e669-4d51-ae59-b5f38b7e5f1e"
      },
      "source": [
        "X_train = X_train.astype('float32')/255\n",
        "X_test = X_test.astype('float32')/255\n",
        "\n",
        "X_train = np.expand_dims(X_train, -1)\n",
        "X_test = np.expand_dims(X_test, -1)\n",
        "\n",
        "y_train = to_categorical(y_train, 10)\n",
        "y_test = to_categorical(y_test, 10)\n",
        "\n",
        "X_val = X_test[:int(len(X_test)/2),:,:]\n",
        "y_val = y_test[:int(len(y_test)/2)]\n",
        "X_test = X_test [-int(len(X_test)/2):,:,:]\n",
        "y_test = y_test[-int(len(y_test)/2):]\n",
        "\n",
        "num_train = len(X_train)\n",
        "num_test = len(X_test)\n",
        "num_val = len(X_val)\n",
        "num_labels = len(np.unique(y_test))\n",
        "print(\"Train instances : \",num_train,\"\\nValidation instances : \",num_val,\"\\nTest instances : \",num_test)"
      ],
      "execution_count": 2,
      "outputs": [
        {
          "output_type": "stream",
          "name": "stdout",
          "text": [
            "Train instances :  60000 \n",
            "Validation instances :  5000 \n",
            "Test instances :  5000\n"
          ]
        }
      ]
    },
    {
      "cell_type": "markdown",
      "metadata": {
        "id": "pDt36Gs85OT5"
      },
      "source": [
        "# **Building the CNN Model**\n",
        "\n",
        "At first, I have specified the model as Sequential. Then I have added,\n",
        "- Convolution layer of 16 channels of size $3 \\times 3$ each, keeping the padding same. (Infact I have kept the padding same in every layer)\n",
        "- LeakyReLU with $\\alpha = 0.1$\n",
        "- MaxPool layer of pool size $2 \\times 2$ and stride $2 \\times 2$\n",
        "- Dropout layer with rate = $0.2$\n",
        "\n",
        "The above set of layers has been repeated $4$ more times (Total=$5$) with changes in channel size in Convolution layer, followed by a change in rate in the last Dropout layer in this set.\n",
        "\n",
        "At last, I have added,\n",
        "- Flatten layer\n",
        "- Dense layer with $1024$ nodes\n",
        "- Leaky ReLU with $\\alpha=0.1$\n",
        "- Dropout layer with rate = $0.25$ and\n",
        "- Dense layer with number of nodes equal to the number of unique labels/classes, which is, in our case, $10$.\n",
        "\n",
        "The optimizer I will use is **Adam** to reach to the global minima and the loss function is **Categorical Crossentropy**. The learning rate of the optimizer has been set to $0.001$ ."
      ]
    },
    {
      "cell_type": "code",
      "metadata": {
        "colab": {
          "base_uri": "https://localhost:8080/"
        },
        "id": "xQ7YFalM5OT5",
        "outputId": "99682b64-3504-4dd3-9f5f-21466f15be71"
      },
      "source": [
        "model = Sequential()\n",
        "\n",
        "model.add(Conv2D(input_shape=X_train[0].shape,filters=16,kernel_size=(3,3),padding=\"same\", activation=\"relu\"))\n",
        "model.add(LeakyReLU(alpha=0.1))\n",
        "model.add(MaxPool2D(pool_size=(2,2),strides=(2,2), padding=\"same\"))\n",
        "model.add(Dropout(0.2))\n",
        "\n",
        "model.add(Conv2D(filters=32, kernel_size=(3,3), padding=\"same\", activation=\"relu\"))\n",
        "model.add(LeakyReLU(alpha=0.1))\n",
        "model.add(MaxPool2D(pool_size=(2,2),strides=(2,2), padding=\"same\"))\n",
        "model.add(Dropout(0.2))\n",
        "\n",
        "model.add(Conv2D(filters=64, kernel_size=(3,3), padding=\"same\", activation=\"relu\"))\n",
        "model.add(LeakyReLU(alpha=0.1))\n",
        "model.add(MaxPool2D(pool_size=(2,2),strides=(2,2), padding=\"same\"))\n",
        "model.add(Dropout(0.2))\n",
        "\n",
        "model.add(Conv2D(filters=128, kernel_size=(3,3), padding=\"same\", activation=\"relu\"))\n",
        "model.add(LeakyReLU(alpha=0.1))\n",
        "model.add(MaxPool2D(pool_size=(2,2),strides=(2,2), padding=\"same\"))\n",
        "model.add(Dropout(0.2))\n",
        "\n",
        "model.add(Conv2D(filters=256, kernel_size=(3,3), padding=\"same\", activation=\"relu\"))\n",
        "model.add(LeakyReLU(alpha=0.1))\n",
        "model.add(MaxPool2D(pool_size=(2,2),strides=(2,2), padding=\"same\"))\n",
        "model.add(Dropout(0.25))\n",
        "\n",
        "model.add(Flatten())\n",
        "model.add(Dense(units=1024,activation=\"relu\"))\n",
        "model.add(LeakyReLU(alpha=0.1))\n",
        "model.add(Dropout(0.25))\n",
        "model.add(Dense(10, activation=\"softmax\"))\n",
        "\n",
        "model.compile(optimizer=adam_v2.Adam(learning_rate=0.001), loss=categorical_crossentropy, metrics=['accuracy'])\n",
        "model.summary()"
      ],
      "execution_count": 3,
      "outputs": [
        {
          "output_type": "stream",
          "name": "stdout",
          "text": [
            "Model: \"sequential\"\n",
            "_________________________________________________________________\n",
            "Layer (type)                 Output Shape              Param #   \n",
            "=================================================================\n",
            "conv2d (Conv2D)              (None, 28, 28, 16)        160       \n",
            "_________________________________________________________________\n",
            "leaky_re_lu (LeakyReLU)      (None, 28, 28, 16)        0         \n",
            "_________________________________________________________________\n",
            "max_pooling2d (MaxPooling2D) (None, 14, 14, 16)        0         \n",
            "_________________________________________________________________\n",
            "dropout (Dropout)            (None, 14, 14, 16)        0         \n",
            "_________________________________________________________________\n",
            "conv2d_1 (Conv2D)            (None, 14, 14, 32)        4640      \n",
            "_________________________________________________________________\n",
            "leaky_re_lu_1 (LeakyReLU)    (None, 14, 14, 32)        0         \n",
            "_________________________________________________________________\n",
            "max_pooling2d_1 (MaxPooling2 (None, 7, 7, 32)          0         \n",
            "_________________________________________________________________\n",
            "dropout_1 (Dropout)          (None, 7, 7, 32)          0         \n",
            "_________________________________________________________________\n",
            "conv2d_2 (Conv2D)            (None, 7, 7, 64)          18496     \n",
            "_________________________________________________________________\n",
            "leaky_re_lu_2 (LeakyReLU)    (None, 7, 7, 64)          0         \n",
            "_________________________________________________________________\n",
            "max_pooling2d_2 (MaxPooling2 (None, 4, 4, 64)          0         \n",
            "_________________________________________________________________\n",
            "dropout_2 (Dropout)          (None, 4, 4, 64)          0         \n",
            "_________________________________________________________________\n",
            "conv2d_3 (Conv2D)            (None, 4, 4, 128)         73856     \n",
            "_________________________________________________________________\n",
            "leaky_re_lu_3 (LeakyReLU)    (None, 4, 4, 128)         0         \n",
            "_________________________________________________________________\n",
            "max_pooling2d_3 (MaxPooling2 (None, 2, 2, 128)         0         \n",
            "_________________________________________________________________\n",
            "dropout_3 (Dropout)          (None, 2, 2, 128)         0         \n",
            "_________________________________________________________________\n",
            "conv2d_4 (Conv2D)            (None, 2, 2, 256)         295168    \n",
            "_________________________________________________________________\n",
            "leaky_re_lu_4 (LeakyReLU)    (None, 2, 2, 256)         0         \n",
            "_________________________________________________________________\n",
            "max_pooling2d_4 (MaxPooling2 (None, 1, 1, 256)         0         \n",
            "_________________________________________________________________\n",
            "dropout_4 (Dropout)          (None, 1, 1, 256)         0         \n",
            "_________________________________________________________________\n",
            "flatten (Flatten)            (None, 256)               0         \n",
            "_________________________________________________________________\n",
            "dense (Dense)                (None, 1024)              263168    \n",
            "_________________________________________________________________\n",
            "leaky_re_lu_5 (LeakyReLU)    (None, 1024)              0         \n",
            "_________________________________________________________________\n",
            "dropout_5 (Dropout)          (None, 1024)              0         \n",
            "_________________________________________________________________\n",
            "dense_1 (Dense)              (None, 10)                10250     \n",
            "=================================================================\n",
            "Total params: 665,738\n",
            "Trainable params: 665,738\n",
            "Non-trainable params: 0\n",
            "_________________________________________________________________\n"
          ]
        }
      ]
    },
    {
      "cell_type": "markdown",
      "metadata": {
        "id": "c2xrBRH_5OT6"
      },
      "source": [
        "# **Training the model**\n",
        "\n",
        "After creation of the model, I have used ```ModelCheckpoint()``` and ```EarlyStopping()``` from ```Keras```.\n",
        "\n",
        "```ModelCheckpoint()``` helps us to monitor a specific parameter of the model. In this example, I have monitored **Validation Accuracy** by passing the parameter ```val_accuracy``` in ```ModelCheckpoint()```.\n",
        "\n",
        "```EarlyStopping()``` helps us to stop the training of the model early if there is no increase in the parameter which I have set to monitor in it. In this case, I am monitoring **Validation Accuracy** by passing ```val_accuracy``` to ```EarlyStopping()```. I have here set patience to $20$, which means that the model will stop to train if it doesn’t see any rise in **Validation Accuracy** in $20$ epochs.\n",
        "\n",
        "At the ned of training, don't forget to save the model in ```.h5``` or ```.h5py``` format."
      ]
    },
    {
      "cell_type": "code",
      "metadata": {
        "colab": {
          "base_uri": "https://localhost:8080/"
        },
        "id": "7pM7l6gF5OT7",
        "outputId": "c32b0117-1449-46a2-cdc6-12603e7283f8"
      },
      "source": [
        "checkpoint = ModelCheckpoint(\"mnist-cnn.h5\", monitor='val_acc', verbose=1, save_best_only=True, save_weights_only=False, mode='auto', period=1)\n",
        "early = EarlyStopping(monitor='val_accuracy', min_delta=0, patience=20, verbose=1, mode='auto')\n",
        "mnist_cnn = model.fit(X_train, y_train, validation_data= (X_val, y_val), validation_steps=10, epochs=100, callbacks=[checkpoint,early])\n",
        "model.save('mnist-cnn.h5')"
      ],
      "execution_count": 4,
      "outputs": [
        {
          "output_type": "stream",
          "name": "stdout",
          "text": [
            "WARNING:tensorflow:`period` argument is deprecated. Please use `save_freq` to specify the frequency in number of batches seen.\n",
            "Epoch 1/100\n",
            "1875/1875 [==============================] - 50s 12ms/step - loss: 0.2911 - accuracy: 0.9032 - val_loss: 0.0789 - val_accuracy: 0.9752\n",
            "WARNING:tensorflow:Can save best model only with val_acc available, skipping.\n",
            "Epoch 2/100\n",
            "1875/1875 [==============================] - 19s 10ms/step - loss: 0.1017 - accuracy: 0.9708 - val_loss: 0.0480 - val_accuracy: 0.9840\n",
            "WARNING:tensorflow:Can save best model only with val_acc available, skipping.\n",
            "Epoch 3/100\n",
            "1875/1875 [==============================] - 19s 10ms/step - loss: 0.0842 - accuracy: 0.9758 - val_loss: 0.0533 - val_accuracy: 0.9828\n",
            "WARNING:tensorflow:Can save best model only with val_acc available, skipping.\n",
            "Epoch 4/100\n",
            "1875/1875 [==============================] - 18s 10ms/step - loss: 0.0738 - accuracy: 0.9788 - val_loss: 0.0504 - val_accuracy: 0.9848\n",
            "WARNING:tensorflow:Can save best model only with val_acc available, skipping.\n",
            "Epoch 5/100\n",
            "1875/1875 [==============================] - 19s 10ms/step - loss: 0.0683 - accuracy: 0.9813 - val_loss: 0.0665 - val_accuracy: 0.9818\n",
            "WARNING:tensorflow:Can save best model only with val_acc available, skipping.\n",
            "Epoch 6/100\n",
            "1875/1875 [==============================] - 19s 10ms/step - loss: 0.0629 - accuracy: 0.9817 - val_loss: 0.0559 - val_accuracy: 0.9830\n",
            "WARNING:tensorflow:Can save best model only with val_acc available, skipping.\n",
            "Epoch 7/100\n",
            "1875/1875 [==============================] - 19s 10ms/step - loss: 0.0607 - accuracy: 0.9827 - val_loss: 0.0433 - val_accuracy: 0.9854\n",
            "WARNING:tensorflow:Can save best model only with val_acc available, skipping.\n",
            "Epoch 8/100\n",
            "1875/1875 [==============================] - 18s 10ms/step - loss: 0.0601 - accuracy: 0.9833 - val_loss: 0.0427 - val_accuracy: 0.9872\n",
            "WARNING:tensorflow:Can save best model only with val_acc available, skipping.\n",
            "Epoch 9/100\n",
            "1875/1875 [==============================] - 19s 10ms/step - loss: 0.0591 - accuracy: 0.9836 - val_loss: 0.0445 - val_accuracy: 0.9878\n",
            "WARNING:tensorflow:Can save best model only with val_acc available, skipping.\n",
            "Epoch 10/100\n",
            "1875/1875 [==============================] - 18s 10ms/step - loss: 0.0582 - accuracy: 0.9837 - val_loss: 0.0398 - val_accuracy: 0.9878\n",
            "WARNING:tensorflow:Can save best model only with val_acc available, skipping.\n",
            "Epoch 11/100\n",
            "1875/1875 [==============================] - 18s 10ms/step - loss: 0.0546 - accuracy: 0.9852 - val_loss: 0.0353 - val_accuracy: 0.9904\n",
            "WARNING:tensorflow:Can save best model only with val_acc available, skipping.\n",
            "Epoch 12/100\n",
            "1875/1875 [==============================] - 18s 10ms/step - loss: 0.0519 - accuracy: 0.9852 - val_loss: 0.0327 - val_accuracy: 0.9912\n",
            "WARNING:tensorflow:Can save best model only with val_acc available, skipping.\n",
            "Epoch 13/100\n",
            "1875/1875 [==============================] - 18s 10ms/step - loss: 0.0542 - accuracy: 0.9853 - val_loss: 0.0395 - val_accuracy: 0.9884\n",
            "WARNING:tensorflow:Can save best model only with val_acc available, skipping.\n",
            "Epoch 14/100\n",
            "1875/1875 [==============================] - 19s 10ms/step - loss: 0.0543 - accuracy: 0.9850 - val_loss: 0.0391 - val_accuracy: 0.9906\n",
            "WARNING:tensorflow:Can save best model only with val_acc available, skipping.\n",
            "Epoch 15/100\n",
            "1875/1875 [==============================] - 18s 9ms/step - loss: 0.0512 - accuracy: 0.9853 - val_loss: 0.0417 - val_accuracy: 0.9898\n",
            "WARNING:tensorflow:Can save best model only with val_acc available, skipping.\n",
            "Epoch 16/100\n",
            "1875/1875 [==============================] - 18s 9ms/step - loss: 0.0501 - accuracy: 0.9861 - val_loss: 0.0411 - val_accuracy: 0.9888\n",
            "WARNING:tensorflow:Can save best model only with val_acc available, skipping.\n",
            "Epoch 17/100\n",
            "1875/1875 [==============================] - 17s 9ms/step - loss: 0.0498 - accuracy: 0.9868 - val_loss: 0.0393 - val_accuracy: 0.9862\n",
            "WARNING:tensorflow:Can save best model only with val_acc available, skipping.\n",
            "Epoch 18/100\n",
            "1875/1875 [==============================] - 16s 9ms/step - loss: 0.0508 - accuracy: 0.9863 - val_loss: 0.0450 - val_accuracy: 0.9882\n",
            "WARNING:tensorflow:Can save best model only with val_acc available, skipping.\n",
            "Epoch 19/100\n",
            "1875/1875 [==============================] - 16s 9ms/step - loss: 0.0506 - accuracy: 0.9860 - val_loss: 0.0433 - val_accuracy: 0.9876\n",
            "WARNING:tensorflow:Can save best model only with val_acc available, skipping.\n",
            "Epoch 20/100\n",
            "1875/1875 [==============================] - 18s 9ms/step - loss: 0.0508 - accuracy: 0.9858 - val_loss: 0.0423 - val_accuracy: 0.9896\n",
            "WARNING:tensorflow:Can save best model only with val_acc available, skipping.\n",
            "Epoch 21/100\n",
            "1875/1875 [==============================] - 18s 10ms/step - loss: 0.0503 - accuracy: 0.9863 - val_loss: 0.0480 - val_accuracy: 0.9882\n",
            "WARNING:tensorflow:Can save best model only with val_acc available, skipping.\n",
            "Epoch 22/100\n",
            "1875/1875 [==============================] - 17s 9ms/step - loss: 0.0518 - accuracy: 0.9858 - val_loss: 0.0466 - val_accuracy: 0.9860\n",
            "WARNING:tensorflow:Can save best model only with val_acc available, skipping.\n",
            "Epoch 23/100\n",
            "1875/1875 [==============================] - 17s 9ms/step - loss: 0.0500 - accuracy: 0.9867 - val_loss: 0.0382 - val_accuracy: 0.9888\n",
            "WARNING:tensorflow:Can save best model only with val_acc available, skipping.\n",
            "Epoch 24/100\n",
            "1875/1875 [==============================] - 18s 10ms/step - loss: 0.0518 - accuracy: 0.9865 - val_loss: 0.0475 - val_accuracy: 0.9894\n",
            "WARNING:tensorflow:Can save best model only with val_acc available, skipping.\n",
            "Epoch 25/100\n",
            "1875/1875 [==============================] - 18s 10ms/step - loss: 0.0506 - accuracy: 0.9870 - val_loss: 0.0545 - val_accuracy: 0.9884\n",
            "WARNING:tensorflow:Can save best model only with val_acc available, skipping.\n",
            "Epoch 26/100\n",
            "1875/1875 [==============================] - 17s 9ms/step - loss: 0.0526 - accuracy: 0.9863 - val_loss: 0.0407 - val_accuracy: 0.9880\n",
            "WARNING:tensorflow:Can save best model only with val_acc available, skipping.\n",
            "Epoch 27/100\n",
            "1875/1875 [==============================] - 17s 9ms/step - loss: 0.0510 - accuracy: 0.9863 - val_loss: 0.0423 - val_accuracy: 0.9884\n",
            "WARNING:tensorflow:Can save best model only with val_acc available, skipping.\n",
            "Epoch 28/100\n",
            "1875/1875 [==============================] - 18s 10ms/step - loss: 0.0486 - accuracy: 0.9864 - val_loss: 0.0412 - val_accuracy: 0.9890\n",
            "WARNING:tensorflow:Can save best model only with val_acc available, skipping.\n",
            "Epoch 29/100\n",
            "1875/1875 [==============================] - 18s 10ms/step - loss: 0.0538 - accuracy: 0.9863 - val_loss: 0.0443 - val_accuracy: 0.9880\n",
            "WARNING:tensorflow:Can save best model only with val_acc available, skipping.\n",
            "Epoch 30/100\n",
            "1875/1875 [==============================] - 18s 10ms/step - loss: 0.0508 - accuracy: 0.9869 - val_loss: 0.0369 - val_accuracy: 0.9882\n",
            "WARNING:tensorflow:Can save best model only with val_acc available, skipping.\n",
            "Epoch 31/100\n",
            "1875/1875 [==============================] - 19s 10ms/step - loss: 0.0524 - accuracy: 0.9863 - val_loss: 0.0422 - val_accuracy: 0.9874\n",
            "WARNING:tensorflow:Can save best model only with val_acc available, skipping.\n",
            "Epoch 32/100\n",
            "1875/1875 [==============================] - 18s 9ms/step - loss: 0.0519 - accuracy: 0.9868 - val_loss: 0.0520 - val_accuracy: 0.9854\n",
            "WARNING:tensorflow:Can save best model only with val_acc available, skipping.\n",
            "Epoch 00032: early stopping\n"
          ]
        }
      ]
    },
    {
      "cell_type": "markdown",
      "metadata": {
        "id": "3qLUgYrs5OT8"
      },
      "source": [
        "# **Loss and Accuracy visualization (Training/Validation)**\n",
        "\n",
        "Once we have trained the model, we can visualise training/validation accuracy and loss. All the training/validation accuracy and loss are stored in ```mnist_cnn``` variable and we can visualise it from there. I have used ```Matplotlib``` for plotting the curves."
      ]
    },
    {
      "cell_type": "code",
      "metadata": {
        "colab": {
          "base_uri": "https://localhost:8080/",
          "height": 295
        },
        "id": "YqfqS3L15OT8",
        "outputId": "10cdb8b2-b95d-44dc-d803-67fb8a0d2743"
      },
      "source": [
        "plt.plot(mnist_cnn.history['accuracy'])\n",
        "plt.plot(mnist_cnn.history['val_accuracy'])\n",
        "plt.plot(mnist_cnn.history['loss'])\n",
        "plt.plot(mnist_cnn.history['val_loss'])\n",
        "plt.title(\"model accuracy\")\n",
        "plt.ylabel(\"Accuracy\")\n",
        "plt.xlabel(\"Epoch\")\n",
        "plt.legend([\"Accuracy\",\"Validation Accuracy\",\"Loss\",\"Validation Loss\"])\n",
        "plt.show()"
      ],
      "execution_count": 5,
      "outputs": [
        {
          "output_type": "display_data",
          "data": {
            "image/png": "[encoded data removed]",
            "text/plain": [
              "<Figure size 432x288 with 1 Axes>"
            ]
          },
          "metadata": {
            "needs_background": "light"
          }
        }
      ]
    },
    {
      "cell_type": "markdown",
      "metadata": {
        "id": "O8hRZQ-45OT9"
      },
      "source": [
        "# **Test Evaluation and Prediction**\n",
        "\n",
        "Using the test set, the trained model is evaluated by computing the loss and therefore, accuracy is calculated by the number of correct predictions.\n",
        "\n",
        "**Note :** You can directly use the ```model``` object for prediction. For illustration purpose, I have shown how to load a pre-trained saved model from disk."
      ]
    },
    {
      "cell_type": "code",
      "metadata": {
        "colab": {
          "base_uri": "https://localhost:8080/"
        },
        "id": "j0TLcNOf5OT9",
        "outputId": "c86ad1d1-8856-4569-84a9-89379ef431c8"
      },
      "source": [
        "trained_model = load_model(\"mnist-cnn.h5\")\n",
        "test_eval = trained_model.evaluate(X_test, y_test, verbose=1)\n",
        "print('Test loss : ',test_eval[0],'\\nTest accuracy : ',test_eval[1])\n",
        "\n",
        "y_pred = trained_model.predict(X_test)\n",
        "y_pred = np.round(y_pred)\n",
        "\n",
        "print(\"Target 1 : \",y_test[0],\"\\nPredicted 1 : \",y_pred[0])"
      ],
      "execution_count": 6,
      "outputs": [
        {
          "output_type": "stream",
          "name": "stdout",
          "text": [
            "157/157 [==============================] - 1s 5ms/step - loss: 0.0269 - accuracy: 0.9936\n",
            "Test loss :  0.02692016027867794 \n",
            "Test accuracy :  0.9936000108718872\n",
            "Target 1 :  [0. 0. 0. 1. 0. 0. 0. 0. 0. 0.] \n",
            "Predicted 1 :  [0. 0. 0. 1. 0. 0. 0. 0. 0. 0.]\n"
          ]
        }
      ]
    },
    {
      "cell_type": "markdown",
      "metadata": {
        "id": "vkitCjfy5OT9"
      },
      "source": [
        "## Determining the number of correct classifications\n",
        "\n",
        "As all the labels have been converted into categorical data, hence we need to compare the Target and Predicted labels in a different manner. From the above cell's output, we can understand that, both the arrays has to be exactly identical in case of a correct classification. I have done that comparison by writing my own code.\n",
        "\n",
        "The value in variable ```misflag``` becomes $1$ whenever it gets a mismatch of an index value in both the arrays. The outer ```for``` loop iterates over all the instances' Target as well as Predicted labels. The inner ```for``` loop scans the binary elements of each of the categorical Target/Predicted labels."
      ]
    },
    {
      "cell_type": "code",
      "metadata": {
        "colab": {
          "base_uri": "https://localhost:8080/"
        },
        "id": "HjucoACM5OT-",
        "outputId": "14eaccad-b1ff-4d8e-c0c0-e1598f7850b8"
      },
      "source": [
        "cclf=0\n",
        "for i in range(num_test):\n",
        "  misflag=0\n",
        "  for j in range(num_labels):\n",
        "    if y_test[i][j] != y_pred[i][j] :\n",
        "      misflag=1\n",
        "      break\n",
        "  if misflag==0:\n",
        "    cclf+=1\n",
        "print(\"Number of correct classifications : \",cclf,\"\\nNumber of misclassifications : \",num_test-cclf,\"\\nFraction : \",cclf/num_test)"
      ],
      "execution_count": 7,
      "outputs": [
        {
          "output_type": "stream",
          "name": "stdout",
          "text": [
            "Number of correct classifications :  4986 \n",
            "Number of misclassifications :  14 \n",
            "Fraction :  0.9972\n"
          ]
        }
      ]
    },
    {
      "cell_type": "markdown",
      "metadata": {
        "id": "YJX5Rz4T5OT-"
      },
      "source": [
        "## Classification report\n",
        "\n",
        "This report includes the **Precision**, **Recall** and **F1 score**. I have used ```Scikits-learn```'s inbuilt method to generate the values."
      ]
    },
    {
      "cell_type": "code",
      "metadata": {
        "colab": {
          "base_uri": "https://localhost:8080/"
        },
        "id": "DudLqv6Z5OT-",
        "outputId": "da3f34e2-2d83-4e20-c52e-c7e5b0997009"
      },
      "source": [
        "label_names=[f\"Class {i}\" for i in range(10)]\n",
        "print(classification_report(y_test,y_pred,target_names=label_names))"
      ],
      "execution_count": 8,
      "outputs": [
        {
          "output_type": "stream",
          "name": "stdout",
          "text": [
            "              precision    recall  f1-score   support\n",
            "\n",
            "     Class 0       1.00      0.99      1.00       520\n",
            "     Class 1       1.00      0.98      0.99       564\n",
            "     Class 2       1.00      1.00      1.00       502\n",
            "     Class 3       1.00      0.99      1.00       510\n",
            "     Class 4       1.00      0.99      1.00       482\n",
            "     Class 5       1.00      0.99      0.99       436\n",
            "     Class 6       0.98      1.00      0.99       496\n",
            "     Class 7       0.99      0.99      0.99       516\n",
            "     Class 8       0.99      0.99      0.99       485\n",
            "     Class 9       1.00      0.99      0.99       489\n",
            "\n",
            "   micro avg       0.99      0.99      0.99      5000\n",
            "   macro avg       1.00      0.99      0.99      5000\n",
            "weighted avg       1.00      0.99      0.99      5000\n",
            " samples avg       0.99      0.99      0.99      5000\n",
            "\n"
          ]
        },
        {
          "output_type": "stream",
          "name": "stderr",
          "text": [
            "/usr/local/lib/python3.7/dist-packages/sklearn/metrics/_classification.py:1272: UndefinedMetricWarning: Precision and F-score are ill-defined and being set to 0.0 in samples with no predicted labels. Use `zero_division` parameter to control this behavior.\n",
            "  _warn_prf(average, modifier, msg_start, len(result))\n"
          ]
        }
      ]
    }
  ]
}